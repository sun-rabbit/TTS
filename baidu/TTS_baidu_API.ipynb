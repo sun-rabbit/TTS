{
  "nbformat": 4,
  "nbformat_minor": 0,
  "metadata": {
    "colab": {
      "provenance": []
    },
    "kernelspec": {
      "name": "python3",
      "display_name": "Python 3"
    },
    "language_info": {
      "name": "python"
    }
  },
  "cells": [
    {
      "cell_type": "code",
      "execution_count": null,
      "metadata": {
        "id": "RZ2Dd3x9YAyv"
      },
      "outputs": [],
      "source": [
        "!pip install baidu-aip"
      ]
    },
    {
      "cell_type": "code",
      "source": [
        "from aip import AipSpeech\n",
        "import time\n",
        "\n",
        "zh\n",
        "\"\"\" 你的 APPID AK SK \"\"\"\n",
        "APP_ID = '29334121'\n",
        "API_KEY = 'ZE67zIlnhbtSHX3dGgRy4y1k'\n",
        "SECRET_KEY = '0tQ0Gkd6GjertbyuFBie9YC72tYdmMbS'\n",
        "\n",
        "client = AipSpeech(APP_ID, API_KEY, SECRET_KEY)\n",
        "s = \"\"\"\n",
        "\n",
        "给我一份炸鸡\n",
        "\"\"\"\n",
        "\n",
        "result = client.synthesis(s, 'zh', 1, {\n",
        "    'vol': 5, 'per': 4\n",
        "})\n",
        "\n",
        "# 发音人选择, 0为女声，1为男声，\n",
        "# 3为情感合成-度逍遥，4为情感合成-度丫丫，默认为普通女\n",
        "\n",
        "# 识别正确返回语音二进制 错误则返回dict 参照下面错误码\n",
        "if not isinstance(result, dict):\n",
        "    with open('./auido.mp3', 'wb') as f:\n",
        "        f.write(result)\n",
        "#当前时间减去预测前的时间\n",
        "print(f\"time cost {time.time() - s_t}\")"
      ],
      "metadata": {
        "id": "An9gbRDhYJt-"
      },
      "execution_count": null,
      "outputs": []
    }
  ]
}